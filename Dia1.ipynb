{
  "nbformat": 4,
  "nbformat_minor": 0,
  "metadata": {
    "colab": {
      "name": "Dia1",
      "provenance": [],
      "collapsed_sections": [],
      "authorship_tag": "ABX9TyPwxlvgnSp86EKiBTFd23fN",
      "include_colab_link": true
    },
    "kernelspec": {
      "name": "python3",
      "display_name": "Python 3"
    },
    "language_info": {
      "name": "python"
    }
  },
  "cells": [
    {
      "cell_type": "markdown",
      "metadata": {
        "id": "view-in-github",
        "colab_type": "text"
      },
      "source": [
        "<a href=\"https://colab.research.google.com/github/ferprimoso/adventofcode2020/blob/main/Dia1.ipynb\" target=\"_parent\"><img src=\"https://colab.research.google.com/assets/colab-badge.svg\" alt=\"Open In Colab\"/></a>"
      ]
    },
    {
      "cell_type": "code",
      "metadata": {
        "id": "qksKcC4vjFrM"
      },
      "source": [
        "lista = [\n",
        "1619,\n",
        "1919,\n",
        "1441,\n",
        "1861,\n",
        "1932,\n",
        "1514,\n",
        "1847,\n",
        "1871,\n",
        "1764,\n",
        "1467,\n",
        "1970,\n",
        "1589,\n",
        "2009,\n",
        "1429,\n",
        "1098,\n",
        "1327,\n",
        "1502,\n",
        "1398,\n",
        "1710,\n",
        "1562,\n",
        "1512,\n",
        "1468,\n",
        "1762,\n",
        "1348,\n",
        "1356,\n",
        "1950,\n",
        "1266,\n",
        "1969,\n",
        "1815,\n",
        "1583,\n",
        "1959,\n",
        "1092,\n",
        "1694,\n",
        "1814,\n",
        "1763,\n",
        "1151,\n",
        "1981,\n",
        "1193,\n",
        "1614,\n",
        "1413,\n",
        "1642,\n",
        "1943,\n",
        "1407,\n",
        "895,\n",
        "1430,\n",
        "1706,\n",
        "1962,\n",
        "1522,\n",
        "1486,\n",
        "1986,\n",
        "1623,\n",
        "1489,\n",
        "1411,\n",
        "1851,\n",
        "1817,\n",
        "1416,\n",
        "1654,\n",
        "1438,\n",
        "1419,\n",
        "1649,\n",
        "1362,\n",
        "690,\n",
        "1804,\n",
        "1452,\n",
        "1766,\n",
        "1360,\n",
        "1807,\n",
        "1385,\n",
        "1964,\n",
        "1626,\n",
        "1832,\n",
        "745,\n",
        "1702,\n",
        "1602,\n",
        "1471,\n",
        "1996,\n",
        "1915,\n",
        "1813,\n",
        "1460,\n",
        "1925,\n",
        "1638,\n",
        "1581,\n",
        "1584,\n",
        "1379,\n",
        "1148,\n",
        "1554,\n",
        "1564,\n",
        "1914,\n",
        "1757,\n",
        "1820,\n",
        "1559,\n",
        "1096,\n",
        "1944,\n",
        "1587,\n",
        "1499,\n",
        "390,\n",
        "1733,\n",
        "1371,\n",
        "1781,\n",
        "2002,\n",
        "324,\n",
        "1655,\n",
        "1639,\n",
        "1482,\n",
        "1198,\n",
        "1264,\n",
        "1953,\n",
        "1320,\n",
        "1704,\n",
        "1321,\n",
        "1449,\n",
        "1455,\n",
        "1509,\n",
        "1765,\n",
        "1797,\n",
        "1703,\n",
        "1758,\n",
        "1610,\n",
        "1756,\n",
        "1901,\n",
        "1707,\n",
        "1968,\n",
        "1601,\n",
        "1328,\n",
        "1336,\n",
        "1592,\n",
        "1678,\n",
        "1699,\n",
        "1793,\n",
        "1957,\n",
        "2000,\n",
        "1306,\n",
        "1094,\n",
        "1545,\n",
        "1331,\n",
        "1751,\n",
        "1739,\n",
        "1335,\n",
        "1753,\n",
        "1983,\n",
        "1966,\n",
        "1934,\n",
        "1831,\n",
        "1426,\n",
        "1711,\n",
        "1840,\n",
        "1857,\n",
        "1347,\n",
        "1789,\n",
        "1409,\n",
        "1310,\n",
        "1752,\n",
        "1897,\n",
        "1497,\n",
        "1485,\n",
        "1125,\n",
        "1803,\n",
        "1577,\n",
        "919,\n",
        "1635,\n",
        "1791,\n",
        "1456,\n",
        "1796,\n",
        "1974,\n",
        "1954,\n",
        "1828,\n",
        "2004,\n",
        "1890,\n",
        "1376,\n",
        "1569,\n",
        "1406,\n",
        "1463,\n",
        "2006,\n",
        "1109,\n",
        "1620,\n",
        "1656,\n",
        "1870,\n",
        "1498,\n",
        "1645,\n",
        "1145,\n",
        "1681,\n",
        "1269,\n",
        "1527,\n",
        "1621,\n",
        "1575,\n",
        "1324,\n",
        "1647,\n",
        "1519,\n",
        "1697,\n",
        "1421,\n",
        "1216,\n",
        "1846,\n",
        "1625,\n",
        "1585,\n",
        "1369,\n",
        "1882,\n",
        "1823,\n",
        "1388,\n",
        "1548,\n",
        "1879,\n",
        "]"
      ],
      "execution_count": 1,
      "outputs": []
    },
    {
      "cell_type": "code",
      "metadata": {
        "colab": {
          "base_uri": "https://localhost:8080/"
        },
        "id": "bynwT9eajMQ4",
        "outputId": "5d55eedb-9f9d-4480-d6fd-8cecb5d29f76"
      },
      "source": [
        "for i in lista:\n",
        "    for j in lista:\n",
        "        if i + j == 2020:\n",
        "            a = i * j\n",
        "            break\n",
        "print(a)           "
      ],
      "execution_count": 4,
      "outputs": [
        {
          "output_type": "stream",
          "text": [
            "1006875\n"
          ],
          "name": "stdout"
        }
      ]
    },
    {
      "cell_type": "markdown",
      "metadata": {
        "id": "epYdrUDhjQ7Z"
      },
      "source": [
        "Resposta da 1ª estrela : **1006875**"
      ]
    },
    {
      "cell_type": "code",
      "metadata": {
        "colab": {
          "base_uri": "https://localhost:8080/"
        },
        "id": "Qzts4wAHjWjm",
        "outputId": "666b7176-3948-48b8-9476-c3411b242621"
      },
      "source": [
        "for i in lista:\n",
        "    for j in lista:\n",
        "      for k in lista:\n",
        "        if i + j + k == 2020:\n",
        "            a = (i * j * k)\n",
        "            break\n",
        "print(a)            "
      ],
      "execution_count": 5,
      "outputs": [
        {
          "output_type": "stream",
          "text": [
            "165026160\n"
          ],
          "name": "stdout"
        }
      ]
    },
    {
      "cell_type": "markdown",
      "metadata": {
        "id": "DgjndJAOj8WC"
      },
      "source": [
        "Resposta da segunda estrela: **165026160**"
      ]
    }
  ]
}